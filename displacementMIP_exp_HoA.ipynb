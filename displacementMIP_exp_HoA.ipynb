{
 "cells": [
  {
   "cell_type": "markdown",
   "id": "7896249f",
   "metadata": {},
   "source": [
    "# DisplacementMIP - Flood displacement impacts in the Horn of Africa"
   ]
  },
  {
   "cell_type": "markdown",
   "id": "c511d0f0",
   "metadata": {},
   "source": [
    "We model the annual average displacment (AAD) impacts and return periods curves for displaced people in the horn of Africa (Ethopia, Somalia, Sudan) for the displacmentMIP.\n",
    "\n",
    "Data used:\n",
    "* flood hazard maps from CIMA\n",
    "* building exposure model (BEM) from [UNEP-GRID](https://giri.unepgrid.ch/sites/default/files/2023-09/GIRI_BEM_report_UNIGE.pdf)"
   ]
  },
  {
   "cell_type": "markdown",
   "id": "9bc9fcdc",
   "metadata": {},
   "source": [
    "Set country (Ethopia, Somalia, Sudan (SDN)); note, we do not include South Sudan (SSD)."
   ]
  },
  {
   "cell_type": "code",
   "execution_count": 36,
   "id": "e07f50ff",
   "metadata": {},
   "outputs": [],
   "source": [
    "# hazard\n",
    "CNTRY = 'SOMALIA'"
   ]
  },
  {
   "cell_type": "code",
   "execution_count": 37,
   "id": "153f29a3",
   "metadata": {},
   "outputs": [],
   "source": [
    "# exposure\n",
    "cntry_name = 'Somalia'"
   ]
  },
  {
   "cell_type": "markdown",
   "id": "6568a429",
   "metadata": {},
   "source": [
    "## BEM exposure model"
   ]
  },
  {
   "cell_type": "markdown",
   "id": "86c71e19",
   "metadata": {},
   "source": [
    "Load Exposures"
   ]
  },
  {
   "cell_type": "code",
   "execution_count": 3,
   "id": "e73cf881",
   "metadata": {},
   "outputs": [],
   "source": [
    "from climada.entity.exposures import Exposures"
   ]
  },
  {
   "cell_type": "code",
   "execution_count": 4,
   "id": "cf5fad59",
   "metadata": {},
   "outputs": [],
   "source": [
    "import numpy as np\n",
    "import os\n",
    "\n",
    "os.chdir('/Users/simonameiler/Documents/WCR/Displacement/global-displacement-risk') # change back to root folder, not \"~/doc\"\n",
    "import exposure\n",
    "import vulnerability"
   ]
  },
  {
   "cell_type": "markdown",
   "id": "2237c304",
   "metadata": {},
   "source": [
    "### BEM subcomponents - prep for use with IVM impact functions"
   ]
  },
  {
   "cell_type": "code",
   "execution_count": 31,
   "id": "25ecb773",
   "metadata": {},
   "outputs": [
    {
     "data": {
      "text/html": [
       "<div>\n",
       "<style scoped>\n",
       "    .dataframe tbody tr th:only-of-type {\n",
       "        vertical-align: middle;\n",
       "    }\n",
       "\n",
       "    .dataframe tbody tr th {\n",
       "        vertical-align: top;\n",
       "    }\n",
       "\n",
       "    .dataframe thead th {\n",
       "        text-align: right;\n",
       "    }\n",
       "</style>\n",
       "<table border=\"1\" class=\"dataframe\">\n",
       "  <thead>\n",
       "    <tr style=\"text-align: right;\">\n",
       "      <th></th>\n",
       "      <th>id_1x</th>\n",
       "      <th>iso3</th>\n",
       "      <th>cpx</th>\n",
       "      <th>sector</th>\n",
       "      <th>se_seismo</th>\n",
       "      <th>valhum</th>\n",
       "      <th>valfis</th>\n",
       "      <th>bd_1_floor</th>\n",
       "      <th>bd_2_floor</th>\n",
       "      <th>bd_3_floor</th>\n",
       "      <th>geometry</th>\n",
       "    </tr>\n",
       "  </thead>\n",
       "  <tbody>\n",
       "    <tr>\n",
       "      <th>0</th>\n",
       "      <td>174025676</td>\n",
       "      <td>SOM</td>\n",
       "      <td>3</td>\n",
       "      <td>beds_priv</td>\n",
       "      <td>W2</td>\n",
       "      <td>0.000342</td>\n",
       "      <td>5.179267e-07</td>\n",
       "      <td>100.0</td>\n",
       "      <td>0.0</td>\n",
       "      <td>0.0</td>\n",
       "      <td>POINT (50.54583 11.86250)</td>\n",
       "    </tr>\n",
       "    <tr>\n",
       "      <th>1</th>\n",
       "      <td>174025676</td>\n",
       "      <td>SOM</td>\n",
       "      <td>3</td>\n",
       "      <td>beds_priv</td>\n",
       "      <td>W1</td>\n",
       "      <td>0.000146</td>\n",
       "      <td>2.214579e-07</td>\n",
       "      <td>100.0</td>\n",
       "      <td>0.0</td>\n",
       "      <td>0.0</td>\n",
       "      <td>POINT (50.54583 11.86250)</td>\n",
       "    </tr>\n",
       "    <tr>\n",
       "      <th>2</th>\n",
       "      <td>174025676</td>\n",
       "      <td>SOM</td>\n",
       "      <td>3</td>\n",
       "      <td>beds_priv</td>\n",
       "      <td>UCB</td>\n",
       "      <td>0.000005</td>\n",
       "      <td>7.143810e-09</td>\n",
       "      <td>100.0</td>\n",
       "      <td>0.0</td>\n",
       "      <td>0.0</td>\n",
       "      <td>POINT (50.54583 11.86250)</td>\n",
       "    </tr>\n",
       "    <tr>\n",
       "      <th>3</th>\n",
       "      <td>174025676</td>\n",
       "      <td>SOM</td>\n",
       "      <td>3</td>\n",
       "      <td>beds_priv</td>\n",
       "      <td>RS2</td>\n",
       "      <td>0.000038</td>\n",
       "      <td>5.715046e-08</td>\n",
       "      <td>100.0</td>\n",
       "      <td>0.0</td>\n",
       "      <td>0.0</td>\n",
       "      <td>POINT (50.54583 11.86250)</td>\n",
       "    </tr>\n",
       "    <tr>\n",
       "      <th>4</th>\n",
       "      <td>174025676</td>\n",
       "      <td>SOM</td>\n",
       "      <td>3</td>\n",
       "      <td>beds_priv</td>\n",
       "      <td>INF</td>\n",
       "      <td>0.000014</td>\n",
       "      <td>2.143141e-08</td>\n",
       "      <td>100.0</td>\n",
       "      <td>0.0</td>\n",
       "      <td>0.0</td>\n",
       "      <td>POINT (50.54583 11.86250)</td>\n",
       "    </tr>\n",
       "  </tbody>\n",
       "</table>\n",
       "</div>"
      ],
      "text/plain": [
       "       id_1x iso3  cpx     sector se_seismo    valhum        valfis  \\\n",
       "0  174025676  SOM    3  beds_priv        W2  0.000342  5.179267e-07   \n",
       "1  174025676  SOM    3  beds_priv        W1  0.000146  2.214579e-07   \n",
       "2  174025676  SOM    3  beds_priv       UCB  0.000005  7.143810e-09   \n",
       "3  174025676  SOM    3  beds_priv       RS2  0.000038  5.715046e-08   \n",
       "4  174025676  SOM    3  beds_priv       INF  0.000014  2.143141e-08   \n",
       "\n",
       "   bd_1_floor  bd_2_floor  bd_3_floor                   geometry  \n",
       "0       100.0         0.0         0.0  POINT (50.54583 11.86250)  \n",
       "1       100.0         0.0         0.0  POINT (50.54583 11.86250)  \n",
       "2       100.0         0.0         0.0  POINT (50.54583 11.86250)  \n",
       "3       100.0         0.0         0.0  POINT (50.54583 11.86250)  \n",
       "4       100.0         0.0         0.0  POINT (50.54583 11.86250)  "
      ]
     },
     "execution_count": 31,
     "metadata": {},
     "output_type": "execute_result"
    }
   ],
   "source": [
    "# Load the full dataframe, without further re-aggregation / processing other than adding centroids\n",
    "gdf_bem_subcomps = exposure.gdf_from_bem_subcomps(cntry_name, opt='full')\n",
    "gdf_bem_subcomps.head()"
   ]
  },
  {
   "cell_type": "code",
   "execution_count": 32,
   "id": "0050b209",
   "metadata": {},
   "outputs": [],
   "source": [
    "# filter and apply impf id\n",
    "gdf_bem_subcomps = gdf_bem_subcomps[gdf_bem_subcomps.valhum>0.001] # filter out rows with basically no population\n",
    "gdf_bem_subcomps['impf_FL'] = gdf_bem_subcomps.apply(lambda row: vulnerability.DICT_PAGER_FLIMPF_IVM[row.se_seismo], axis=1)"
   ]
  },
  {
   "cell_type": "code",
   "execution_count": 33,
   "id": "dbe7df55",
   "metadata": {},
   "outputs": [],
   "source": [
    "# replace impf 3 --> 5 for 2-storeys and more\n",
    "gdf_bem_subcomps.loc[((gdf_bem_subcomps.bd_3_floor+gdf_bem_subcomps.bd_2_floor)>0.5)\n",
    "                     &(gdf_bem_subcomps.impf_FL==3), \"impf_FL\"] = 5"
   ]
  },
  {
   "cell_type": "code",
   "execution_count": 34,
   "id": "5fee31dc",
   "metadata": {},
   "outputs": [],
   "source": [
    "# replace impf 4 --> 6 for 2-storeys and more\n",
    "gdf_bem_subcomps.loc[((gdf_bem_subcomps.bd_3_floor+gdf_bem_subcomps.bd_2_floor)>0.5)\n",
    "                     &(gdf_bem_subcomps.impf_FL==4), \"impf_FL\"] = 6"
   ]
  },
  {
   "cell_type": "code",
   "execution_count": 35,
   "id": "35d1fc98",
   "metadata": {},
   "outputs": [
    {
     "data": {
      "text/html": [
       "<div>\n",
       "<style scoped>\n",
       "    .dataframe tbody tr th:only-of-type {\n",
       "        vertical-align: middle;\n",
       "    }\n",
       "\n",
       "    .dataframe tbody tr th {\n",
       "        vertical-align: top;\n",
       "    }\n",
       "\n",
       "    .dataframe thead th {\n",
       "        text-align: right;\n",
       "    }\n",
       "</style>\n",
       "<table border=\"1\" class=\"dataframe\">\n",
       "  <thead>\n",
       "    <tr style=\"text-align: right;\">\n",
       "      <th></th>\n",
       "      <th>id_1x</th>\n",
       "      <th>cpx</th>\n",
       "      <th>valhum</th>\n",
       "      <th>bd_1_floor</th>\n",
       "      <th>bd_2_floor</th>\n",
       "      <th>bd_3_floor</th>\n",
       "      <th>geometry</th>\n",
       "      <th>impf_FL</th>\n",
       "    </tr>\n",
       "  </thead>\n",
       "  <tbody>\n",
       "    <tr>\n",
       "      <th>6</th>\n",
       "      <td>194457751</td>\n",
       "      <td>3</td>\n",
       "      <td>0.003283</td>\n",
       "      <td>0.000</td>\n",
       "      <td>0.000</td>\n",
       "      <td>0.0</td>\n",
       "      <td>POINT (43.40417 0.66250)</td>\n",
       "      <td>2</td>\n",
       "    </tr>\n",
       "    <tr>\n",
       "      <th>7</th>\n",
       "      <td>194457751</td>\n",
       "      <td>3</td>\n",
       "      <td>0.001404</td>\n",
       "      <td>0.000</td>\n",
       "      <td>0.000</td>\n",
       "      <td>0.0</td>\n",
       "      <td>POINT (43.40417 0.66250)</td>\n",
       "      <td>2</td>\n",
       "    </tr>\n",
       "    <tr>\n",
       "      <th>12</th>\n",
       "      <td>194457751</td>\n",
       "      <td>3</td>\n",
       "      <td>0.002711</td>\n",
       "      <td>0.000</td>\n",
       "      <td>0.000</td>\n",
       "      <td>0.0</td>\n",
       "      <td>POINT (43.40417 0.66250)</td>\n",
       "      <td>2</td>\n",
       "    </tr>\n",
       "    <tr>\n",
       "      <th>13</th>\n",
       "      <td>194457751</td>\n",
       "      <td>3</td>\n",
       "      <td>0.001159</td>\n",
       "      <td>0.000</td>\n",
       "      <td>0.000</td>\n",
       "      <td>0.0</td>\n",
       "      <td>POINT (43.40417 0.66250)</td>\n",
       "      <td>2</td>\n",
       "    </tr>\n",
       "    <tr>\n",
       "      <th>18</th>\n",
       "      <td>194457751</td>\n",
       "      <td>3</td>\n",
       "      <td>0.281569</td>\n",
       "      <td>0.000</td>\n",
       "      <td>0.000</td>\n",
       "      <td>0.0</td>\n",
       "      <td>POINT (43.40417 0.66250)</td>\n",
       "      <td>2</td>\n",
       "    </tr>\n",
       "    <tr>\n",
       "      <th>...</th>\n",
       "      <td>...</td>\n",
       "      <td>...</td>\n",
       "      <td>...</td>\n",
       "      <td>...</td>\n",
       "      <td>...</td>\n",
       "      <td>...</td>\n",
       "      <td>...</td>\n",
       "      <td>...</td>\n",
       "    </tr>\n",
       "    <tr>\n",
       "      <th>6085408</th>\n",
       "      <td>194650976</td>\n",
       "      <td>3</td>\n",
       "      <td>2.444534</td>\n",
       "      <td>78.022</td>\n",
       "      <td>21.978</td>\n",
       "      <td>0.0</td>\n",
       "      <td>POINT (41.59583 -1.64583)</td>\n",
       "      <td>2</td>\n",
       "    </tr>\n",
       "    <tr>\n",
       "      <th>6085409</th>\n",
       "      <td>194650976</td>\n",
       "      <td>3</td>\n",
       "      <td>0.078856</td>\n",
       "      <td>78.022</td>\n",
       "      <td>21.978</td>\n",
       "      <td>0.0</td>\n",
       "      <td>POINT (41.59583 -1.64583)</td>\n",
       "      <td>6</td>\n",
       "    </tr>\n",
       "    <tr>\n",
       "      <th>6085410</th>\n",
       "      <td>194650976</td>\n",
       "      <td>3</td>\n",
       "      <td>0.630848</td>\n",
       "      <td>78.022</td>\n",
       "      <td>21.978</td>\n",
       "      <td>0.0</td>\n",
       "      <td>POINT (41.59583 -1.64583)</td>\n",
       "      <td>5</td>\n",
       "    </tr>\n",
       "    <tr>\n",
       "      <th>6085411</th>\n",
       "      <td>194650976</td>\n",
       "      <td>3</td>\n",
       "      <td>0.236568</td>\n",
       "      <td>78.022</td>\n",
       "      <td>21.978</td>\n",
       "      <td>0.0</td>\n",
       "      <td>POINT (41.59583 -1.64583)</td>\n",
       "      <td>1</td>\n",
       "    </tr>\n",
       "    <tr>\n",
       "      <th>6085412</th>\n",
       "      <td>194650976</td>\n",
       "      <td>3</td>\n",
       "      <td>0.015771</td>\n",
       "      <td>78.022</td>\n",
       "      <td>21.978</td>\n",
       "      <td>0.0</td>\n",
       "      <td>POINT (41.59583 -1.64583)</td>\n",
       "      <td>1</td>\n",
       "    </tr>\n",
       "  </tbody>\n",
       "</table>\n",
       "<p>4089925 rows × 8 columns</p>\n",
       "</div>"
      ],
      "text/plain": [
       "             id_1x  cpx    valhum  bd_1_floor  bd_2_floor  bd_3_floor  \\\n",
       "6        194457751    3  0.003283       0.000       0.000         0.0   \n",
       "7        194457751    3  0.001404       0.000       0.000         0.0   \n",
       "12       194457751    3  0.002711       0.000       0.000         0.0   \n",
       "13       194457751    3  0.001159       0.000       0.000         0.0   \n",
       "18       194457751    3  0.281569       0.000       0.000         0.0   \n",
       "...            ...  ...       ...         ...         ...         ...   \n",
       "6085408  194650976    3  2.444534      78.022      21.978         0.0   \n",
       "6085409  194650976    3  0.078856      78.022      21.978         0.0   \n",
       "6085410  194650976    3  0.630848      78.022      21.978         0.0   \n",
       "6085411  194650976    3  0.236568      78.022      21.978         0.0   \n",
       "6085412  194650976    3  0.015771      78.022      21.978         0.0   \n",
       "\n",
       "                          geometry  impf_FL  \n",
       "6         POINT (43.40417 0.66250)        2  \n",
       "7         POINT (43.40417 0.66250)        2  \n",
       "12        POINT (43.40417 0.66250)        2  \n",
       "13        POINT (43.40417 0.66250)        2  \n",
       "18        POINT (43.40417 0.66250)        2  \n",
       "...                            ...      ...  \n",
       "6085408  POINT (41.59583 -1.64583)        2  \n",
       "6085409  POINT (41.59583 -1.64583)        6  \n",
       "6085410  POINT (41.59583 -1.64583)        5  \n",
       "6085411  POINT (41.59583 -1.64583)        1  \n",
       "6085412  POINT (41.59583 -1.64583)        1  \n",
       "\n",
       "[4089925 rows x 8 columns]"
      ]
     },
     "execution_count": 35,
     "metadata": {},
     "output_type": "execute_result"
    }
   ],
   "source": [
    "# remove for now unnecessary cols and prepare gdf for CLIMADA Exposure\n",
    "gdf_bem_subcomps.rename({'valhum' : 'value'}, axis=1)\n",
    "for col in ['iso3', 'sector', 'valfis', 'se_seismo']:\n",
    "    gdf_bem_subcomps.pop(col)\n",
    "gdf_bem_subcomps"
   ]
  },
  {
   "cell_type": "markdown",
   "id": "b22b7d72",
   "metadata": {},
   "source": [
    "Make CLIMADA Exposure with mutliply defined centroids"
   ]
  },
  {
   "cell_type": "code",
   "execution_count": 36,
   "id": "44e6f6cd",
   "metadata": {},
   "outputs": [
    {
     "data": {
      "text/html": [
       "<div>\n",
       "<style scoped>\n",
       "    .dataframe tbody tr th:only-of-type {\n",
       "        vertical-align: middle;\n",
       "    }\n",
       "\n",
       "    .dataframe tbody tr th {\n",
       "        vertical-align: top;\n",
       "    }\n",
       "\n",
       "    .dataframe thead th {\n",
       "        text-align: right;\n",
       "    }\n",
       "</style>\n",
       "<table border=\"1\" class=\"dataframe\">\n",
       "  <thead>\n",
       "    <tr style=\"text-align: right;\">\n",
       "      <th></th>\n",
       "      <th>id_1x</th>\n",
       "      <th>cpx</th>\n",
       "      <th>value</th>\n",
       "      <th>bd_1_floor</th>\n",
       "      <th>bd_2_floor</th>\n",
       "      <th>bd_3_floor</th>\n",
       "      <th>geometry</th>\n",
       "      <th>impf_FL</th>\n",
       "      <th>longitude</th>\n",
       "      <th>latitude</th>\n",
       "    </tr>\n",
       "  </thead>\n",
       "  <tbody>\n",
       "    <tr>\n",
       "      <th>6</th>\n",
       "      <td>194457751</td>\n",
       "      <td>3</td>\n",
       "      <td>0.003283</td>\n",
       "      <td>0.0</td>\n",
       "      <td>0.0</td>\n",
       "      <td>0.0</td>\n",
       "      <td>POINT (43.40417 0.66250)</td>\n",
       "      <td>2</td>\n",
       "      <td>43.404167</td>\n",
       "      <td>0.6625</td>\n",
       "    </tr>\n",
       "    <tr>\n",
       "      <th>7</th>\n",
       "      <td>194457751</td>\n",
       "      <td>3</td>\n",
       "      <td>0.001404</td>\n",
       "      <td>0.0</td>\n",
       "      <td>0.0</td>\n",
       "      <td>0.0</td>\n",
       "      <td>POINT (43.40417 0.66250)</td>\n",
       "      <td>2</td>\n",
       "      <td>43.404167</td>\n",
       "      <td>0.6625</td>\n",
       "    </tr>\n",
       "    <tr>\n",
       "      <th>12</th>\n",
       "      <td>194457751</td>\n",
       "      <td>3</td>\n",
       "      <td>0.002711</td>\n",
       "      <td>0.0</td>\n",
       "      <td>0.0</td>\n",
       "      <td>0.0</td>\n",
       "      <td>POINT (43.40417 0.66250)</td>\n",
       "      <td>2</td>\n",
       "      <td>43.404167</td>\n",
       "      <td>0.6625</td>\n",
       "    </tr>\n",
       "    <tr>\n",
       "      <th>13</th>\n",
       "      <td>194457751</td>\n",
       "      <td>3</td>\n",
       "      <td>0.001159</td>\n",
       "      <td>0.0</td>\n",
       "      <td>0.0</td>\n",
       "      <td>0.0</td>\n",
       "      <td>POINT (43.40417 0.66250)</td>\n",
       "      <td>2</td>\n",
       "      <td>43.404167</td>\n",
       "      <td>0.6625</td>\n",
       "    </tr>\n",
       "    <tr>\n",
       "      <th>18</th>\n",
       "      <td>194457751</td>\n",
       "      <td>3</td>\n",
       "      <td>0.281569</td>\n",
       "      <td>0.0</td>\n",
       "      <td>0.0</td>\n",
       "      <td>0.0</td>\n",
       "      <td>POINT (43.40417 0.66250)</td>\n",
       "      <td>2</td>\n",
       "      <td>43.404167</td>\n",
       "      <td>0.6625</td>\n",
       "    </tr>\n",
       "  </tbody>\n",
       "</table>\n",
       "</div>"
      ],
      "text/plain": [
       "        id_1x  cpx     value  bd_1_floor  bd_2_floor  bd_3_floor  \\\n",
       "6   194457751    3  0.003283         0.0         0.0         0.0   \n",
       "7   194457751    3  0.001404         0.0         0.0         0.0   \n",
       "12  194457751    3  0.002711         0.0         0.0         0.0   \n",
       "13  194457751    3  0.001159         0.0         0.0         0.0   \n",
       "18  194457751    3  0.281569         0.0         0.0         0.0   \n",
       "\n",
       "                    geometry  impf_FL  longitude  latitude  \n",
       "6   POINT (43.40417 0.66250)        2  43.404167    0.6625  \n",
       "7   POINT (43.40417 0.66250)        2  43.404167    0.6625  \n",
       "12  POINT (43.40417 0.66250)        2  43.404167    0.6625  \n",
       "13  POINT (43.40417 0.66250)        2  43.404167    0.6625  \n",
       "18  POINT (43.40417 0.66250)        2  43.404167    0.6625  "
      ]
     },
     "execution_count": 36,
     "metadata": {},
     "output_type": "execute_result"
    }
   ],
   "source": [
    "exp_bem = Exposures(gdf_bem_subcomps)\n",
    "exp_bem.gdf.rename({'valhum': 'value'}, axis=1, inplace=True)\n",
    "exp_bem.value_unit = 'Pop. count'\n",
    "exp_bem.gdf['longitude'] = exp_bem.gdf.geometry.x\n",
    "exp_bem.gdf['latitude'] = exp_bem.gdf.geometry.y\n",
    "exp_bem.gdf = exp_bem.gdf[~np.isnan(\n",
    "    exp_bem.gdf.latitude)]  # drop nan centroids\n",
    "exp_bem.gdf.head()"
   ]
  },
  {
   "cell_type": "code",
   "execution_count": 37,
   "id": "4ea0f9fa",
   "metadata": {},
   "outputs": [
    {
     "name": "stdout",
     "output_type": "stream",
     "text": [
      "Total population in exposure layer: 19,054,740\n"
     ]
    }
   ],
   "source": [
    "print('Total population in exposure layer: ' + \"{:,.0f}\".format(exp_bem.gdf.value.sum()))"
   ]
  },
  {
   "cell_type": "markdown",
   "id": "a89e0d61",
   "metadata": {},
   "source": [
    "The exposure layer for Somalia includes disputed areas and Somaliland. We thus crop the extent of the exposure to the natural earth polygon."
   ]
  },
  {
   "cell_type": "code",
   "execution_count": 38,
   "id": "33ec5069",
   "metadata": {},
   "outputs": [
    {
     "name": "stderr",
     "output_type": "stream",
     "text": [
      "/Users/simonameiler/opt/anaconda3/envs/climada_env/lib/python3.9/site-packages/IPython/core/interactiveshell.py:3445: FutureWarning: The `op` parameter is deprecated and will be removed in a future release. Please use the `predicate` parameter instead.\n",
      "  if await self.run_code(code, result, async_=asy):\n"
     ]
    },
    {
     "name": "stdout",
     "output_type": "stream",
     "text": [
      "Total population in cropped exposure layer: 14,134,633\n"
     ]
    }
   ],
   "source": [
    "import shapely\n",
    "import geopandas as gpd\n",
    "from climada.util import coordinates as u_coords\n",
    "cntry_iso = u_coords.country_to_iso(cntry_name)\n",
    "geom_cntry = shapely.ops.unary_union(\n",
    "    [geom for geom in\n",
    "     u_coords.get_country_geometries([cntry_iso]).geometry])\n",
    "polygon_gdf = gpd.GeoDataFrame([1], geometry=[geom_cntry], crs=gdf_bem_subcomps.crs)\n",
    "overlay_bem = gpd.sjoin(gdf_bem_subcomps, polygon_gdf, how=\"inner\", op=\"intersects\")\n",
    "\n",
    "print('Total population in cropped exposure layer: ' + \"{:,.0f}\".format(overlay_bem.value.sum()))\n",
    "\n",
    "exp = Exposures(overlay_bem)"
   ]
  },
  {
   "cell_type": "code",
   "execution_count": 39,
   "id": "9b566905",
   "metadata": {},
   "outputs": [
    {
     "name": "stdout",
     "output_type": "stream",
     "text": [
      "Total population in exposure layer: 14,134,633\n"
     ]
    }
   ],
   "source": [
    "print('Total population in exposure layer: ' + \"{:,.0f}\".format(exp.gdf.value.sum()))"
   ]
  },
  {
   "cell_type": "code",
   "execution_count": 40,
   "id": "f5003375",
   "metadata": {},
   "outputs": [],
   "source": [
    "exp.write_hdf5(f'{cntry_name}_BEM_exp_IVM.hdf5')"
   ]
  },
  {
   "cell_type": "markdown",
   "id": "d229995e",
   "metadata": {},
   "source": [
    "### BEM subcomponents - prep for use with IVM impact functions"
   ]
  },
  {
   "cell_type": "code",
   "execution_count": 16,
   "id": "c21d4242",
   "metadata": {},
   "outputs": [
    {
     "data": {
      "text/html": [
       "<div>\n",
       "<style scoped>\n",
       "    .dataframe tbody tr th:only-of-type {\n",
       "        vertical-align: middle;\n",
       "    }\n",
       "\n",
       "    .dataframe tbody tr th {\n",
       "        vertical-align: top;\n",
       "    }\n",
       "\n",
       "    .dataframe thead th {\n",
       "        text-align: right;\n",
       "    }\n",
       "</style>\n",
       "<table border=\"1\" class=\"dataframe\">\n",
       "  <thead>\n",
       "    <tr style=\"text-align: right;\">\n",
       "      <th></th>\n",
       "      <th>id_1x</th>\n",
       "      <th>iso3</th>\n",
       "      <th>cpx</th>\n",
       "      <th>sector</th>\n",
       "      <th>se_seismo</th>\n",
       "      <th>valhum</th>\n",
       "      <th>valfis</th>\n",
       "      <th>bd_1_floor</th>\n",
       "      <th>bd_2_floor</th>\n",
       "      <th>bd_3_floor</th>\n",
       "      <th>geometry</th>\n",
       "    </tr>\n",
       "  </thead>\n",
       "  <tbody>\n",
       "    <tr>\n",
       "      <th>0</th>\n",
       "      <td>140485949</td>\n",
       "      <td>SDN</td>\n",
       "      <td>3</td>\n",
       "      <td>beds_priv</td>\n",
       "      <td>W</td>\n",
       "      <td>0.000311</td>\n",
       "      <td>0.000001</td>\n",
       "      <td>85.106</td>\n",
       "      <td>6.384</td>\n",
       "      <td>8.51</td>\n",
       "      <td>None</td>\n",
       "    </tr>\n",
       "    <tr>\n",
       "      <th>1</th>\n",
       "      <td>140485949</td>\n",
       "      <td>SDN</td>\n",
       "      <td>3</td>\n",
       "      <td>beds_priv</td>\n",
       "      <td>UFB</td>\n",
       "      <td>0.006213</td>\n",
       "      <td>0.000021</td>\n",
       "      <td>85.106</td>\n",
       "      <td>6.384</td>\n",
       "      <td>8.51</td>\n",
       "      <td>None</td>\n",
       "    </tr>\n",
       "    <tr>\n",
       "      <th>2</th>\n",
       "      <td>140485949</td>\n",
       "      <td>SDN</td>\n",
       "      <td>3</td>\n",
       "      <td>beds_priv</td>\n",
       "      <td>M</td>\n",
       "      <td>0.012115</td>\n",
       "      <td>0.000041</td>\n",
       "      <td>85.106</td>\n",
       "      <td>6.384</td>\n",
       "      <td>8.51</td>\n",
       "      <td>None</td>\n",
       "    </tr>\n",
       "    <tr>\n",
       "      <th>3</th>\n",
       "      <td>140485949</td>\n",
       "      <td>SDN</td>\n",
       "      <td>3</td>\n",
       "      <td>beds_priv</td>\n",
       "      <td>INF</td>\n",
       "      <td>0.026716</td>\n",
       "      <td>0.000090</td>\n",
       "      <td>85.106</td>\n",
       "      <td>6.384</td>\n",
       "      <td>8.51</td>\n",
       "      <td>None</td>\n",
       "    </tr>\n",
       "    <tr>\n",
       "      <th>4</th>\n",
       "      <td>140485949</td>\n",
       "      <td>SDN</td>\n",
       "      <td>3</td>\n",
       "      <td>beds_priv</td>\n",
       "      <td>A</td>\n",
       "      <td>0.008388</td>\n",
       "      <td>0.000028</td>\n",
       "      <td>85.106</td>\n",
       "      <td>6.384</td>\n",
       "      <td>8.51</td>\n",
       "      <td>None</td>\n",
       "    </tr>\n",
       "  </tbody>\n",
       "</table>\n",
       "</div>"
      ],
      "text/plain": [
       "       id_1x iso3  cpx     sector se_seismo    valhum    valfis  bd_1_floor  \\\n",
       "0  140485949  SDN    3  beds_priv         W  0.000311  0.000001      85.106   \n",
       "1  140485949  SDN    3  beds_priv       UFB  0.006213  0.000021      85.106   \n",
       "2  140485949  SDN    3  beds_priv         M  0.012115  0.000041      85.106   \n",
       "3  140485949  SDN    3  beds_priv       INF  0.026716  0.000090      85.106   \n",
       "4  140485949  SDN    3  beds_priv         A  0.008388  0.000028      85.106   \n",
       "\n",
       "   bd_2_floor  bd_3_floor geometry  \n",
       "0       6.384        8.51     None  \n",
       "1       6.384        8.51     None  \n",
       "2       6.384        8.51     None  \n",
       "3       6.384        8.51     None  \n",
       "4       6.384        8.51     None  "
      ]
     },
     "execution_count": 16,
     "metadata": {},
     "output_type": "execute_result"
    }
   ],
   "source": [
    "# Load the full dataframe, without further re-aggregation / processing other than adding centroids\n",
    "gdf_bem_subcomps = exposure.gdf_from_bem_subcomps(cntry_name, opt='full')\n",
    "gdf_bem_subcomps.head()"
   ]
  },
  {
   "cell_type": "code",
   "execution_count": 17,
   "id": "3b9c42fd",
   "metadata": {},
   "outputs": [],
   "source": [
    "# filter and apply impf id\n",
    "gdf_bem_subcomps = gdf_bem_subcomps[gdf_bem_subcomps.valhum>0.001] # filter out rows with basically no population\n",
    "gdf_bem_subcomps['impf_FL'] = gdf_bem_subcomps.apply(lambda row: vulnerability.DICT_PAGER_FLIMPF_CIMA[row.se_seismo], axis=1)"
   ]
  },
  {
   "cell_type": "code",
   "execution_count": 18,
   "id": "e704f70a",
   "metadata": {},
   "outputs": [],
   "source": [
    "# remove for now unnecessary cols and prepare gdf for CLIMADA Exposure\n",
    "gdf_bem_subcomps.rename({'valhum' : 'value'}, axis=1)\n",
    "for col in ['iso3', 'sector', 'valfis', 'se_seismo', 'bd_1_floor','bd_2_floor','bd_3_floor']:\n",
    "    gdf_bem_subcomps.pop(col)"
   ]
  },
  {
   "cell_type": "markdown",
   "id": "77c99ffb",
   "metadata": {},
   "source": [
    "Make CLIMADA Exposure with mutliply defined centroids"
   ]
  },
  {
   "cell_type": "code",
   "execution_count": 19,
   "id": "7f55dbca",
   "metadata": {},
   "outputs": [
    {
     "data": {
      "text/html": [
       "<div>\n",
       "<style scoped>\n",
       "    .dataframe tbody tr th:only-of-type {\n",
       "        vertical-align: middle;\n",
       "    }\n",
       "\n",
       "    .dataframe tbody tr th {\n",
       "        vertical-align: top;\n",
       "    }\n",
       "\n",
       "    .dataframe thead th {\n",
       "        text-align: right;\n",
       "    }\n",
       "</style>\n",
       "<table border=\"1\" class=\"dataframe\">\n",
       "  <thead>\n",
       "    <tr style=\"text-align: right;\">\n",
       "      <th></th>\n",
       "      <th>id_1x</th>\n",
       "      <th>cpx</th>\n",
       "      <th>value</th>\n",
       "      <th>geometry</th>\n",
       "      <th>impf_FL</th>\n",
       "      <th>longitude</th>\n",
       "      <th>latitude</th>\n",
       "    </tr>\n",
       "  </thead>\n",
       "  <tbody>\n",
       "    <tr>\n",
       "      <th>16</th>\n",
       "      <td>169203556</td>\n",
       "      <td>3</td>\n",
       "      <td>0.005079</td>\n",
       "      <td>POINT (33.77917 17.33750)</td>\n",
       "      <td>6</td>\n",
       "      <td>33.779167</td>\n",
       "      <td>17.3375</td>\n",
       "    </tr>\n",
       "    <tr>\n",
       "      <th>17</th>\n",
       "      <td>169203556</td>\n",
       "      <td>3</td>\n",
       "      <td>0.009903</td>\n",
       "      <td>POINT (33.77917 17.33750)</td>\n",
       "      <td>12</td>\n",
       "      <td>33.779167</td>\n",
       "      <td>17.3375</td>\n",
       "    </tr>\n",
       "    <tr>\n",
       "      <th>18</th>\n",
       "      <td>169203556</td>\n",
       "      <td>3</td>\n",
       "      <td>0.021838</td>\n",
       "      <td>POINT (33.77917 17.33750)</td>\n",
       "      <td>14</td>\n",
       "      <td>33.779167</td>\n",
       "      <td>17.3375</td>\n",
       "    </tr>\n",
       "    <tr>\n",
       "      <th>19</th>\n",
       "      <td>169203556</td>\n",
       "      <td>3</td>\n",
       "      <td>0.006856</td>\n",
       "      <td>POINT (33.77917 17.33750)</td>\n",
       "      <td>12</td>\n",
       "      <td>33.779167</td>\n",
       "      <td>17.3375</td>\n",
       "    </tr>\n",
       "    <tr>\n",
       "      <th>20</th>\n",
       "      <td>169203556</td>\n",
       "      <td>3</td>\n",
       "      <td>0.002218</td>\n",
       "      <td>POINT (33.77917 17.33750)</td>\n",
       "      <td>14</td>\n",
       "      <td>33.779167</td>\n",
       "      <td>17.3375</td>\n",
       "    </tr>\n",
       "  </tbody>\n",
       "</table>\n",
       "</div>"
      ],
      "text/plain": [
       "        id_1x  cpx     value                   geometry  impf_FL  longitude  \\\n",
       "16  169203556    3  0.005079  POINT (33.77917 17.33750)        6  33.779167   \n",
       "17  169203556    3  0.009903  POINT (33.77917 17.33750)       12  33.779167   \n",
       "18  169203556    3  0.021838  POINT (33.77917 17.33750)       14  33.779167   \n",
       "19  169203556    3  0.006856  POINT (33.77917 17.33750)       12  33.779167   \n",
       "20  169203556    3  0.002218  POINT (33.77917 17.33750)       14  33.779167   \n",
       "\n",
       "    latitude  \n",
       "16   17.3375  \n",
       "17   17.3375  \n",
       "18   17.3375  \n",
       "19   17.3375  \n",
       "20   17.3375  "
      ]
     },
     "execution_count": 19,
     "metadata": {},
     "output_type": "execute_result"
    }
   ],
   "source": [
    "exp_bem = Exposures(gdf_bem_subcomps)\n",
    "exp_bem.gdf.rename({'valhum': 'value'}, axis=1, inplace=True)\n",
    "exp_bem.value_unit = 'Pop. count'\n",
    "exp_bem.gdf['longitude'] = exp_bem.gdf.geometry.x\n",
    "exp_bem.gdf['latitude'] = exp_bem.gdf.geometry.y\n",
    "exp_bem.gdf = exp_bem.gdf[~np.isnan(\n",
    "    exp_bem.gdf.latitude)]  # drop nan centroids\n",
    "exp_bem.gdf.head()"
   ]
  },
  {
   "cell_type": "code",
   "execution_count": 20,
   "id": "81c2e4fd",
   "metadata": {},
   "outputs": [
    {
     "name": "stdout",
     "output_type": "stream",
     "text": [
      "Total population in exposure layer: 59,880,402\n"
     ]
    }
   ],
   "source": [
    "print('Total population in exposure layer: ' + \"{:,.0f}\".format(exp_bem.gdf.value.sum()))"
   ]
  },
  {
   "cell_type": "markdown",
   "id": "8792ac48",
   "metadata": {},
   "source": [
    "The exposure layer for Somalia includes disputed areas and Somaliland. We thus crop the extent of the exposure to the natural earth polygon."
   ]
  },
  {
   "cell_type": "code",
   "execution_count": 21,
   "id": "62767f01",
   "metadata": {},
   "outputs": [
    {
     "name": "stderr",
     "output_type": "stream",
     "text": [
      "/Users/simonameiler/opt/anaconda3/envs/climada_env/lib/python3.9/site-packages/IPython/core/interactiveshell.py:3445: FutureWarning: The `op` parameter is deprecated and will be removed in a future release. Please use the `predicate` parameter instead.\n",
      "  if await self.run_code(code, result, async_=asy):\n"
     ]
    },
    {
     "name": "stdout",
     "output_type": "stream",
     "text": [
      "Total population in cropped exposure layer: 59,771,246\n"
     ]
    }
   ],
   "source": [
    "import shapely\n",
    "import geopandas as gpd\n",
    "from climada.util import coordinates as u_coords\n",
    "cntry_iso = u_coords.country_to_iso(cntry_name)\n",
    "geom_cntry = shapely.ops.unary_union(\n",
    "    [geom for geom in\n",
    "     u_coords.get_country_geometries([cntry_iso]).geometry])\n",
    "polygon_gdf = gpd.GeoDataFrame([1], geometry=[geom_cntry], crs=gdf_bem_subcomps.crs)\n",
    "overlay_bem = gpd.sjoin(gdf_bem_subcomps, polygon_gdf, how=\"inner\", op=\"intersects\")\n",
    "\n",
    "print('Total population in cropped exposure layer: ' + \"{:,.0f}\".format(overlay_bem.value.sum()))\n",
    "\n",
    "exp = Exposures(overlay_bem)"
   ]
  },
  {
   "cell_type": "code",
   "execution_count": 22,
   "id": "e5fd92ac",
   "metadata": {},
   "outputs": [
    {
     "name": "stdout",
     "output_type": "stream",
     "text": [
      "Total population in exposure layer: 59,771,246\n"
     ]
    }
   ],
   "source": [
    "print('Total population in exposure layer: ' + \"{:,.0f}\".format(exp.gdf.value.sum()))"
   ]
  },
  {
   "cell_type": "code",
   "execution_count": 23,
   "id": "628ce2a8",
   "metadata": {},
   "outputs": [],
   "source": [
    "exp.write_hdf5(f'{cntry_name}_BEM_exp_CIMA.hdf5')"
   ]
  },
  {
   "cell_type": "code",
   "execution_count": null,
   "id": "403581e6",
   "metadata": {},
   "outputs": [],
   "source": []
  }
 ],
 "metadata": {
  "kernelspec": {
   "display_name": "Python 3 (ipykernel)",
   "language": "python",
   "name": "python3"
  },
  "language_info": {
   "codemirror_mode": {
    "name": "ipython",
    "version": 3
   },
   "file_extension": ".py",
   "mimetype": "text/x-python",
   "name": "python",
   "nbconvert_exporter": "python",
   "pygments_lexer": "ipython3",
   "version": "3.9.16"
  }
 },
 "nbformat": 4,
 "nbformat_minor": 5
}
