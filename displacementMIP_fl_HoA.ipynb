{
 "cells": [
  {
   "cell_type": "markdown",
   "id": "ea9a5e39",
   "metadata": {},
   "source": [
    "# DisplacementMIP - \"building fraction damage\" vs. \"step function\" approach\n",
    "\n",
    "This notebook illustrates and contrasts two different approaches to model displacement from floods for Somalia (same logic holds for Ethiopia and Sudan). \n",
    "\n",
    "First, we demonstrate a \"building fraction damage\" approach, which calculates the fraction of buildings damaged when exposed to hazard maps of various return periods. Based on this building fraction damage, we then apply masks for different thresholds to calculate the displaced population within these buildings. \n",
    "\n",
    "The second approach involves applying damage thresholds directly to the impact functions, resulting in step functions. These step functions are then used to calculate the displaced population."
   ]
  },
  {
   "cell_type": "code",
   "execution_count": 1,
   "id": "60551e05",
   "metadata": {},
   "outputs": [],
   "source": [
    "import copy\n",
    "import numpy as np\n",
    "import os\n",
    "from pathlib import Path\n",
    "import pandas as pd\n",
    "import sys\n",
    "\n",
    "from climada.hazard import Hazard\n",
    "from climada.entity.exposures import Exposures\n",
    "from climada.engine import ImpactCalc\n",
    "\n",
    "os.chdir('/Users/simonameiler/Documents/WCR/Displacement/global-displacement-risk')\n",
    "import exposure\n",
    "import vulnerability"
   ]
  },
  {
   "cell_type": "code",
   "execution_count": 2,
   "id": "0a1edbe3",
   "metadata": {},
   "outputs": [],
   "source": [
    "# Constants\n",
    "PATH_FL_HAZARD = Path('/Users/simonameiler/Documents/WCR/Displacement/Somalia_CIMA_example/Hazard')\n",
    "\n",
    "DMG_THRESHS = {'low' : 0.3, 'med' : 0.55, 'high': 0.7}"
   ]
  },
  {
   "cell_type": "markdown",
   "id": "f3ff89c5",
   "metadata": {},
   "source": [
    "### Load exposure"
   ]
  },
  {
   "cell_type": "code",
   "execution_count": 3,
   "id": "05d9dbd0",
   "metadata": {},
   "outputs": [],
   "source": [
    "cntry_iso = 'SOM'\n",
    "rcp = 'HISTORICAL'"
   ]
  },
  {
   "cell_type": "code",
   "execution_count": 13,
   "id": "f42f5ab0-9e20-4a36-91b8-d16c63459a60",
   "metadata": {},
   "outputs": [],
   "source": [
    "# load bem, make exp (just admin0)\n",
    "gdf_bem_subcomps = exposure.gdf_from_bem_subcomps(cntry_iso, opt='full')\n",
    "gdf_bem_subcomps = gdf_bem_subcomps[gdf_bem_subcomps.valhum>1] # filter out rows with basically no population\n",
    "\n",
    "exp = Exposures(gdf_bem_subcomps.copy())\n",
    "exp.value_unit = 'building_unit'\n",
    "exp.gdf['longitude'] = exp.gdf.geometry.x\n",
    "exp.gdf['latitude'] = exp.gdf.geometry.y\n",
    "exp.gdf['value'] = 1"
   ]
  },
  {
   "cell_type": "code",
   "execution_count": 5,
   "id": "51abefae",
   "metadata": {},
   "outputs": [
    {
     "data": {
      "text/html": [
       "<div>\n",
       "<style scoped>\n",
       "    .dataframe tbody tr th:only-of-type {\n",
       "        vertical-align: middle;\n",
       "    }\n",
       "\n",
       "    .dataframe tbody tr th {\n",
       "        vertical-align: top;\n",
       "    }\n",
       "\n",
       "    .dataframe thead th {\n",
       "        text-align: right;\n",
       "    }\n",
       "</style>\n",
       "<table border=\"1\" class=\"dataframe\">\n",
       "  <thead>\n",
       "    <tr style=\"text-align: right;\">\n",
       "      <th></th>\n",
       "      <th>id_1x</th>\n",
       "      <th>iso3</th>\n",
       "      <th>cpx</th>\n",
       "      <th>sector</th>\n",
       "      <th>se_seismo</th>\n",
       "      <th>valhum</th>\n",
       "      <th>valfis</th>\n",
       "      <th>bd_1_floor</th>\n",
       "      <th>bd_2_floor</th>\n",
       "      <th>bd_3_floor</th>\n",
       "      <th>geometry</th>\n",
       "      <th>longitude</th>\n",
       "      <th>latitude</th>\n",
       "      <th>value</th>\n",
       "    </tr>\n",
       "  </thead>\n",
       "  <tbody>\n",
       "    <tr>\n",
       "      <th>24</th>\n",
       "      <td>194457751</td>\n",
       "      <td>SOM</td>\n",
       "      <td>3</td>\n",
       "      <td>edu_pub</td>\n",
       "      <td>W2</td>\n",
       "      <td>3.642231</td>\n",
       "      <td>0.011027</td>\n",
       "      <td>0.0</td>\n",
       "      <td>0.0</td>\n",
       "      <td>0.0</td>\n",
       "      <td>POINT (43.40417 0.66250)</td>\n",
       "      <td>43.404167</td>\n",
       "      <td>0.6625</td>\n",
       "      <td>1</td>\n",
       "    </tr>\n",
       "    <tr>\n",
       "      <th>25</th>\n",
       "      <td>194457751</td>\n",
       "      <td>SOM</td>\n",
       "      <td>3</td>\n",
       "      <td>edu_pub</td>\n",
       "      <td>W1</td>\n",
       "      <td>1.557365</td>\n",
       "      <td>0.004715</td>\n",
       "      <td>0.0</td>\n",
       "      <td>0.0</td>\n",
       "      <td>0.0</td>\n",
       "      <td>POINT (43.40417 0.66250)</td>\n",
       "      <td>43.404167</td>\n",
       "      <td>0.6625</td>\n",
       "      <td>1</td>\n",
       "    </tr>\n",
       "    <tr>\n",
       "      <th>48</th>\n",
       "      <td>194457751</td>\n",
       "      <td>SOM</td>\n",
       "      <td>3</td>\n",
       "      <td>ic_low</td>\n",
       "      <td>W2</td>\n",
       "      <td>15.383508</td>\n",
       "      <td>0.004852</td>\n",
       "      <td>0.0</td>\n",
       "      <td>0.0</td>\n",
       "      <td>0.0</td>\n",
       "      <td>POINT (43.40417 0.66250)</td>\n",
       "      <td>43.404167</td>\n",
       "      <td>0.6625</td>\n",
       "      <td>1</td>\n",
       "    </tr>\n",
       "    <tr>\n",
       "      <th>49</th>\n",
       "      <td>194457751</td>\n",
       "      <td>SOM</td>\n",
       "      <td>3</td>\n",
       "      <td>ic_low</td>\n",
       "      <td>W1</td>\n",
       "      <td>6.577763</td>\n",
       "      <td>0.002074</td>\n",
       "      <td>0.0</td>\n",
       "      <td>0.0</td>\n",
       "      <td>0.0</td>\n",
       "      <td>POINT (43.40417 0.66250)</td>\n",
       "      <td>43.404167</td>\n",
       "      <td>0.6625</td>\n",
       "      <td>1</td>\n",
       "    </tr>\n",
       "    <tr>\n",
       "      <th>51</th>\n",
       "      <td>194457751</td>\n",
       "      <td>SOM</td>\n",
       "      <td>3</td>\n",
       "      <td>ic_low</td>\n",
       "      <td>RS2</td>\n",
       "      <td>1.697488</td>\n",
       "      <td>0.000535</td>\n",
       "      <td>0.0</td>\n",
       "      <td>0.0</td>\n",
       "      <td>0.0</td>\n",
       "      <td>POINT (43.40417 0.66250)</td>\n",
       "      <td>43.404167</td>\n",
       "      <td>0.6625</td>\n",
       "      <td>1</td>\n",
       "    </tr>\n",
       "  </tbody>\n",
       "</table>\n",
       "</div>"
      ],
      "text/plain": [
       "        id_1x iso3  cpx   sector se_seismo     valhum    valfis  bd_1_floor  \\\n",
       "24  194457751  SOM    3  edu_pub        W2   3.642231  0.011027         0.0   \n",
       "25  194457751  SOM    3  edu_pub        W1   1.557365  0.004715         0.0   \n",
       "48  194457751  SOM    3   ic_low        W2  15.383508  0.004852         0.0   \n",
       "49  194457751  SOM    3   ic_low        W1   6.577763  0.002074         0.0   \n",
       "51  194457751  SOM    3   ic_low       RS2   1.697488  0.000535         0.0   \n",
       "\n",
       "    bd_2_floor  bd_3_floor                  geometry  longitude  latitude  \\\n",
       "24         0.0         0.0  POINT (43.40417 0.66250)  43.404167    0.6625   \n",
       "25         0.0         0.0  POINT (43.40417 0.66250)  43.404167    0.6625   \n",
       "48         0.0         0.0  POINT (43.40417 0.66250)  43.404167    0.6625   \n",
       "49         0.0         0.0  POINT (43.40417 0.66250)  43.404167    0.6625   \n",
       "51         0.0         0.0  POINT (43.40417 0.66250)  43.404167    0.6625   \n",
       "\n",
       "    value  \n",
       "24      1  \n",
       "25      1  \n",
       "48      1  \n",
       "49      1  \n",
       "51      1  "
      ]
     },
     "execution_count": 5,
     "metadata": {},
     "output_type": "execute_result"
    }
   ],
   "source": [
    "exp.gdf.head()"
   ]
  },
  {
   "cell_type": "code",
   "execution_count": 5,
   "id": "3a05dfe8-0e41-43c9-96fd-58074aec2d14",
   "metadata": {},
   "outputs": [],
   "source": [
    "country = {'ETH': 'Ethiopia',\n",
    "           'SOM': 'Somalia',\n",
    "           'SDN': 'Sudan'}"
   ]
  },
  {
   "cell_type": "markdown",
   "id": "3e0b5b85",
   "metadata": {},
   "source": [
    "### Load hazard"
   ]
  },
  {
   "cell_type": "code",
   "execution_count": 4,
   "id": "5c926001-7d2e-4dd2-8eb1-c5fda8a443d0",
   "metadata": {},
   "outputs": [],
   "source": [
    "HAZ_FOLDER = PATH_FL_HAZARD/cntry_iso/rcp\n",
    "haz_files = np.sort([str(file) for file in HAZ_FOLDER.glob('*.tif')]).tolist()\n",
    "rp = np.array([int(Path(file).stem[-4:]) for file in haz_files])"
   ]
  },
  {
   "cell_type": "code",
   "execution_count": 5,
   "id": "b232e402-d154-44d7-a56d-66269cbf5c93",
   "metadata": {},
   "outputs": [
    {
     "data": {
      "text/plain": [
       "PosixPath('/Users/simonameiler/Documents/WCR/Displacement/Somalia_CIMA_example/Hazard/SOM/HISTORICAL')"
      ]
     },
     "execution_count": 5,
     "metadata": {},
     "output_type": "execute_result"
    }
   ],
   "source": [
    "HAZ_FOLDER"
   ]
  },
  {
   "cell_type": "code",
   "execution_count": 6,
   "id": "e8660516-4d65-4924-9613-8ee81a55fa3d",
   "metadata": {
    "scrolled": false
   },
   "outputs": [
    {
     "data": {
      "text/plain": [
       "['/Users/simonameiler/Documents/WCR/Displacement/Somalia_CIMA_example/Hazard/SOM/HISTORICAL/HM_defended_T0005.tif',\n",
       " '/Users/simonameiler/Documents/WCR/Displacement/Somalia_CIMA_example/Hazard/SOM/HISTORICAL/HM_defended_T0010.tif',\n",
       " '/Users/simonameiler/Documents/WCR/Displacement/Somalia_CIMA_example/Hazard/SOM/HISTORICAL/HM_defended_T0025.tif',\n",
       " '/Users/simonameiler/Documents/WCR/Displacement/Somalia_CIMA_example/Hazard/SOM/HISTORICAL/HM_defended_T0050.tif',\n",
       " '/Users/simonameiler/Documents/WCR/Displacement/Somalia_CIMA_example/Hazard/SOM/HISTORICAL/HM_defended_T0100.tif',\n",
       " '/Users/simonameiler/Documents/WCR/Displacement/Somalia_CIMA_example/Hazard/SOM/HISTORICAL/HM_defended_T0200.tif',\n",
       " '/Users/simonameiler/Documents/WCR/Displacement/Somalia_CIMA_example/Hazard/SOM/HISTORICAL/HM_defended_T0500.tif',\n",
       " '/Users/simonameiler/Documents/WCR/Displacement/Somalia_CIMA_example/Hazard/SOM/HISTORICAL/HM_defended_T1000.tif']"
      ]
     },
     "execution_count": 6,
     "metadata": {},
     "output_type": "execute_result"
    }
   ],
   "source": [
    "haz_files"
   ]
  },
  {
   "cell_type": "code",
   "execution_count": 9,
   "id": "5173ba3b-97be-445b-af53-4886a409a0f0",
   "metadata": {},
   "outputs": [],
   "source": [
    "haz = Hazard.from_raster(\n",
    "haz_type='FL', files_intensity=haz_files, src_crs='WGS84',\n",
    "attrs={'unit': 'm', 'event_id': np.arange(len(haz_files)), 'frequency':1/rp})"
   ]
  },
  {
   "cell_type": "code",
   "execution_count": 10,
   "id": "7c21df52-8cca-4ff3-9b48-a7389f2a4ead",
   "metadata": {},
   "outputs": [
    {
     "data": {
      "text/plain": [
       "array([   2.,    5.,   10.,   25.,   50.,  100.,  250.,  500., 1000.])"
      ]
     },
     "execution_count": 10,
     "metadata": {},
     "output_type": "execute_result"
    }
   ],
   "source": [
    "rps = 1/haz.frequency\n",
    "#rps = np.sort(rps)\n",
    "rps"
   ]
  },
  {
   "cell_type": "code",
   "execution_count": 12,
   "id": "59ff0d35",
   "metadata": {},
   "outputs": [
    {
     "data": {
      "text/plain": [
       "[2, 5, 10, 25, 50, 100, 250, 500, 1000]"
      ]
     },
     "execution_count": 12,
     "metadata": {},
     "output_type": "execute_result"
    }
   ],
   "source": [
    "rp.tolist()"
   ]
  },
  {
   "cell_type": "markdown",
   "id": "694defcf",
   "metadata": {},
   "source": [
    "## \"Building fraction damage approach\""
   ]
  },
  {
   "cell_type": "code",
   "execution_count": 12,
   "id": "f0a294fe",
   "metadata": {},
   "outputs": [],
   "source": [
    "# compute physical impact (building fraction damage) and save impact matrix for future postproc\n",
    "\n",
    "# scenario 1: capra/cima impfs\n",
    "dict_imp_bldg = {}\n",
    "exp.gdf['impf_FL'] = exp.gdf['se_seismo'].map(vulnerability.DICT_PAGER_FLIMPF_CIMA)\n",
    "dict_imp_bldg['cima'] = ImpactCalc(exp, vulnerability.IMPF_SET_FL_CIMA, haz).impact(save_mat=True)\n",
    "\n",
    "# scenario 2: ivm impfs\n",
    "#exp.gdf['impf_FL'] = exp.gdf['se_seismo'].map(vulnerability.DICT_PAGER_FLIMPF_IVM)\n",
    "#dict_imp_bldg['ivm'] = ImpactCalc(exp, vulnerability.IMPF_SET_FL_IVM, haz).impact(save_mat=True)"
   ]
  },
  {
   "cell_type": "markdown",
   "id": "26786a56",
   "metadata": {},
   "source": [
    "**Show one example**"
   ]
  },
  {
   "cell_type": "code",
   "execution_count": 13,
   "id": "4f8b540c",
   "metadata": {},
   "outputs": [
    {
     "data": {
      "text/plain": [
       "<9x522899 sparse matrix of type '<class 'numpy.bool_'>'\n",
       "\twith 428791 stored elements in Compressed Sparse Row format>"
      ]
     },
     "execution_count": 13,
     "metadata": {},
     "output_type": "execute_result"
    }
   ],
   "source": [
    "# let's take cima and the low threshold (0.3 - low) and create sparse boolean impact matrix\n",
    "imp_map_cima_low = dict_imp_bldg['cima'].imp_mat > DMG_THRESHS['low']\n",
    "imp_map_cima_low"
   ]
  },
  {
   "cell_type": "code",
   "execution_count": 14,
   "id": "9372fedd",
   "metadata": {},
   "outputs": [],
   "source": [
    "scen_name = 'cima_low'\n",
    "\n",
    "# Aggregate the sparse boolean impact matrix (displacement True/False) into the full exposure format per RP.\n",
    "full_bool = imp_map_cima_low.toarray()\n",
    "\n",
    "# Ensure the boolean matrix and the exposure dataframe have compatible shapes\n",
    "assert full_bool.shape[1] == len(exp.gdf), \"Shape mismatch between impact matrix and exposure data\"\n",
    "\n",
    "# Calculate impacts (multiply boolean matrix with population values) for each return period and save to exposure GeoDataFrame\n",
    "for idx, rp in enumerate(rps):\n",
    "    exp.gdf[f'imp_rp_{rp}_{scen_name}'] = full_bool[idx, :].astype(int) * exp.gdf['valhum']"
   ]
  },
  {
   "cell_type": "code",
   "execution_count": 15,
   "id": "2f550cb2",
   "metadata": {},
   "outputs": [
    {
     "data": {
      "text/html": [
       "<div>\n",
       "<style scoped>\n",
       "    .dataframe tbody tr th:only-of-type {\n",
       "        vertical-align: middle;\n",
       "    }\n",
       "\n",
       "    .dataframe tbody tr th {\n",
       "        vertical-align: top;\n",
       "    }\n",
       "\n",
       "    .dataframe thead th {\n",
       "        text-align: right;\n",
       "    }\n",
       "</style>\n",
       "<table border=\"1\" class=\"dataframe\">\n",
       "  <thead>\n",
       "    <tr style=\"text-align: right;\">\n",
       "      <th></th>\n",
       "      <th>id_1x</th>\n",
       "      <th>iso3</th>\n",
       "      <th>cpx</th>\n",
       "      <th>sector</th>\n",
       "      <th>se_seismo</th>\n",
       "      <th>valhum</th>\n",
       "      <th>valfis</th>\n",
       "      <th>bd_1_floor</th>\n",
       "      <th>bd_2_floor</th>\n",
       "      <th>bd_3_floor</th>\n",
       "      <th>...</th>\n",
       "      <th>centr_FL</th>\n",
       "      <th>imp_rp_2.0_cima_low</th>\n",
       "      <th>imp_rp_5.0_cima_low</th>\n",
       "      <th>imp_rp_10.0_cima_low</th>\n",
       "      <th>imp_rp_25.0_cima_low</th>\n",
       "      <th>imp_rp_50.0_cima_low</th>\n",
       "      <th>imp_rp_100.0_cima_low</th>\n",
       "      <th>imp_rp_250.0_cima_low</th>\n",
       "      <th>imp_rp_500.0_cima_low</th>\n",
       "      <th>imp_rp_1000.0_cima_low</th>\n",
       "    </tr>\n",
       "  </thead>\n",
       "  <tbody>\n",
       "    <tr>\n",
       "      <th>24</th>\n",
       "      <td>194457751</td>\n",
       "      <td>SOM</td>\n",
       "      <td>3</td>\n",
       "      <td>edu_pub</td>\n",
       "      <td>W2</td>\n",
       "      <td>3.642231</td>\n",
       "      <td>0.011027</td>\n",
       "      <td>0.0</td>\n",
       "      <td>0.0</td>\n",
       "      <td>0.0</td>\n",
       "      <td>...</td>\n",
       "      <td>171371565</td>\n",
       "      <td>0.0</td>\n",
       "      <td>0.0</td>\n",
       "      <td>0.0</td>\n",
       "      <td>0.0</td>\n",
       "      <td>0.0</td>\n",
       "      <td>0.0</td>\n",
       "      <td>0.0</td>\n",
       "      <td>0.0</td>\n",
       "      <td>0.0</td>\n",
       "    </tr>\n",
       "    <tr>\n",
       "      <th>25</th>\n",
       "      <td>194457751</td>\n",
       "      <td>SOM</td>\n",
       "      <td>3</td>\n",
       "      <td>edu_pub</td>\n",
       "      <td>W1</td>\n",
       "      <td>1.557365</td>\n",
       "      <td>0.004715</td>\n",
       "      <td>0.0</td>\n",
       "      <td>0.0</td>\n",
       "      <td>0.0</td>\n",
       "      <td>...</td>\n",
       "      <td>171371565</td>\n",
       "      <td>0.0</td>\n",
       "      <td>0.0</td>\n",
       "      <td>0.0</td>\n",
       "      <td>0.0</td>\n",
       "      <td>0.0</td>\n",
       "      <td>0.0</td>\n",
       "      <td>0.0</td>\n",
       "      <td>0.0</td>\n",
       "      <td>0.0</td>\n",
       "    </tr>\n",
       "    <tr>\n",
       "      <th>48</th>\n",
       "      <td>194457751</td>\n",
       "      <td>SOM</td>\n",
       "      <td>3</td>\n",
       "      <td>ic_low</td>\n",
       "      <td>W2</td>\n",
       "      <td>15.383508</td>\n",
       "      <td>0.004852</td>\n",
       "      <td>0.0</td>\n",
       "      <td>0.0</td>\n",
       "      <td>0.0</td>\n",
       "      <td>...</td>\n",
       "      <td>171371565</td>\n",
       "      <td>0.0</td>\n",
       "      <td>0.0</td>\n",
       "      <td>0.0</td>\n",
       "      <td>0.0</td>\n",
       "      <td>0.0</td>\n",
       "      <td>0.0</td>\n",
       "      <td>0.0</td>\n",
       "      <td>0.0</td>\n",
       "      <td>0.0</td>\n",
       "    </tr>\n",
       "    <tr>\n",
       "      <th>49</th>\n",
       "      <td>194457751</td>\n",
       "      <td>SOM</td>\n",
       "      <td>3</td>\n",
       "      <td>ic_low</td>\n",
       "      <td>W1</td>\n",
       "      <td>6.577763</td>\n",
       "      <td>0.002074</td>\n",
       "      <td>0.0</td>\n",
       "      <td>0.0</td>\n",
       "      <td>0.0</td>\n",
       "      <td>...</td>\n",
       "      <td>171371565</td>\n",
       "      <td>0.0</td>\n",
       "      <td>0.0</td>\n",
       "      <td>0.0</td>\n",
       "      <td>0.0</td>\n",
       "      <td>0.0</td>\n",
       "      <td>0.0</td>\n",
       "      <td>0.0</td>\n",
       "      <td>0.0</td>\n",
       "      <td>0.0</td>\n",
       "    </tr>\n",
       "    <tr>\n",
       "      <th>51</th>\n",
       "      <td>194457751</td>\n",
       "      <td>SOM</td>\n",
       "      <td>3</td>\n",
       "      <td>ic_low</td>\n",
       "      <td>RS2</td>\n",
       "      <td>1.697488</td>\n",
       "      <td>0.000535</td>\n",
       "      <td>0.0</td>\n",
       "      <td>0.0</td>\n",
       "      <td>0.0</td>\n",
       "      <td>...</td>\n",
       "      <td>171371565</td>\n",
       "      <td>0.0</td>\n",
       "      <td>0.0</td>\n",
       "      <td>0.0</td>\n",
       "      <td>0.0</td>\n",
       "      <td>0.0</td>\n",
       "      <td>0.0</td>\n",
       "      <td>0.0</td>\n",
       "      <td>0.0</td>\n",
       "      <td>0.0</td>\n",
       "    </tr>\n",
       "  </tbody>\n",
       "</table>\n",
       "<p>5 rows × 25 columns</p>\n",
       "</div>"
      ],
      "text/plain": [
       "        id_1x iso3  cpx   sector se_seismo     valhum    valfis  bd_1_floor  \\\n",
       "24  194457751  SOM    3  edu_pub        W2   3.642231  0.011027         0.0   \n",
       "25  194457751  SOM    3  edu_pub        W1   1.557365  0.004715         0.0   \n",
       "48  194457751  SOM    3   ic_low        W2  15.383508  0.004852         0.0   \n",
       "49  194457751  SOM    3   ic_low        W1   6.577763  0.002074         0.0   \n",
       "51  194457751  SOM    3   ic_low       RS2   1.697488  0.000535         0.0   \n",
       "\n",
       "    bd_2_floor  bd_3_floor  ...   centr_FL  imp_rp_2.0_cima_low  \\\n",
       "24         0.0         0.0  ...  171371565                  0.0   \n",
       "25         0.0         0.0  ...  171371565                  0.0   \n",
       "48         0.0         0.0  ...  171371565                  0.0   \n",
       "49         0.0         0.0  ...  171371565                  0.0   \n",
       "51         0.0         0.0  ...  171371565                  0.0   \n",
       "\n",
       "    imp_rp_5.0_cima_low  imp_rp_10.0_cima_low  imp_rp_25.0_cima_low  \\\n",
       "24                  0.0                   0.0                   0.0   \n",
       "25                  0.0                   0.0                   0.0   \n",
       "48                  0.0                   0.0                   0.0   \n",
       "49                  0.0                   0.0                   0.0   \n",
       "51                  0.0                   0.0                   0.0   \n",
       "\n",
       "    imp_rp_50.0_cima_low  imp_rp_100.0_cima_low  imp_rp_250.0_cima_low  \\\n",
       "24                   0.0                    0.0                    0.0   \n",
       "25                   0.0                    0.0                    0.0   \n",
       "48                   0.0                    0.0                    0.0   \n",
       "49                   0.0                    0.0                    0.0   \n",
       "51                   0.0                    0.0                    0.0   \n",
       "\n",
       "    imp_rp_500.0_cima_low  imp_rp_1000.0_cima_low  \n",
       "24                    0.0                     0.0  \n",
       "25                    0.0                     0.0  \n",
       "48                    0.0                     0.0  \n",
       "49                    0.0                     0.0  \n",
       "51                    0.0                     0.0  \n",
       "\n",
       "[5 rows x 25 columns]"
      ]
     },
     "execution_count": 15,
     "metadata": {},
     "output_type": "execute_result"
    }
   ],
   "source": [
    "exp.gdf.head()"
   ]
  },
  {
   "cell_type": "code",
   "execution_count": 16,
   "id": "e0cb68bc",
   "metadata": {},
   "outputs": [
    {
     "name": "stderr",
     "output_type": "stream",
     "text": [
      "/var/folders/7j/w3ygw9_d0wb9dn7w0f21n_980000gn/T/ipykernel_93608/1062569006.py:2: FutureWarning: The default value of numeric_only in GeoDataFrame.sum is deprecated. In a future version, it will default to False. In addition, specifying 'numeric_only=None' is deprecated. Select only valid columns or specify the value of numeric_only to silence this warning.\n",
      "  imp_cima_low = exp.gdf.sum()[[f'imp_rp_{rp}_{scen_name}' for rp in rps]]\n"
     ]
    }
   ],
   "source": [
    "# Sum over impacts for each return period\n",
    "imp_cima_low = exp.gdf.sum()[[f'imp_rp_{rp}_{scen_name}' for rp in rps]]"
   ]
  },
  {
   "cell_type": "code",
   "execution_count": 17,
   "id": "2892d572",
   "metadata": {},
   "outputs": [
    {
     "data": {
      "text/plain": [
       "imp_rp_2.0_cima_low                  0.0\n",
       "imp_rp_5.0_cima_low        986280.130932\n",
       "imp_rp_10.0_cima_low       1170223.91625\n",
       "imp_rp_25.0_cima_low      1681158.194824\n",
       "imp_rp_50.0_cima_low      2221687.791797\n",
       "imp_rp_100.0_cima_low     2372456.857963\n",
       "imp_rp_250.0_cima_low     2710151.535252\n",
       "imp_rp_500.0_cima_low     2950019.110034\n",
       "imp_rp_1000.0_cima_low    3152505.374383\n",
       "dtype: object"
      ]
     },
     "execution_count": 17,
     "metadata": {},
     "output_type": "execute_result"
    }
   ],
   "source": [
    "imp_cima_low"
   ]
  },
  {
   "cell_type": "code",
   "execution_count": 18,
   "id": "2737b350",
   "metadata": {},
   "outputs": [
    {
     "data": {
      "text/plain": [
       "imp_rp_2.0_cima_low                  0.0\n",
       "imp_rp_5.0_cima_low        986280.130932\n",
       "imp_rp_10.0_cima_low       1170223.91625\n",
       "imp_rp_25.0_cima_low      1681158.194824\n",
       "imp_rp_50.0_cima_low      2221687.791797\n",
       "imp_rp_100.0_cima_low     2372456.857963\n",
       "imp_rp_250.0_cima_low     2710151.535252\n",
       "imp_rp_500.0_cima_low     2950019.110034\n",
       "imp_rp_1000.0_cima_low    3152505.374383\n",
       "aed_cima_low               469576.219755\n",
       "dtype: object"
      ]
     },
     "execution_count": 18,
     "metadata": {},
     "output_type": "execute_result"
    }
   ],
   "source": [
    "# Compute average annually expected displacement, as sum(displacement(rp) / rp) for all rp.\n",
    "imp_cima_low[f'aed_{scen_name}'] = 0\n",
    "for rp in rps:\n",
    "    imp_cima_low[f'aed_{scen_name}'] += imp_cima_low[f'imp_rp_{rp}_{scen_name}'] / rp\n",
    "    \n",
    "imp_cima_low"
   ]
  },
  {
   "cell_type": "markdown",
   "id": "d2b5ba02",
   "metadata": {},
   "source": [
    "## \"Step function approach\""
   ]
  },
  {
   "cell_type": "code",
   "execution_count": 20,
   "id": "8680bf5e-4bc5-42f9-8a83-445cb44e149e",
   "metadata": {},
   "outputs": [
    {
     "data": {
      "text/html": [
       "<div>\n",
       "<style scoped>\n",
       "    .dataframe tbody tr th:only-of-type {\n",
       "        vertical-align: middle;\n",
       "    }\n",
       "\n",
       "    .dataframe tbody tr th {\n",
       "        vertical-align: top;\n",
       "    }\n",
       "\n",
       "    .dataframe thead th {\n",
       "        text-align: right;\n",
       "    }\n",
       "</style>\n",
       "<table border=\"1\" class=\"dataframe\">\n",
       "  <thead>\n",
       "    <tr style=\"text-align: right;\">\n",
       "      <th></th>\n",
       "      <th>id_1x</th>\n",
       "      <th>iso3</th>\n",
       "      <th>cpx</th>\n",
       "      <th>sector</th>\n",
       "      <th>se_seismo</th>\n",
       "      <th>value</th>\n",
       "      <th>valfis</th>\n",
       "      <th>bd_1_floor</th>\n",
       "      <th>bd_2_floor</th>\n",
       "      <th>bd_3_floor</th>\n",
       "      <th>...</th>\n",
       "      <th>centr_FL</th>\n",
       "      <th>imp_rp_2.0_cima_low</th>\n",
       "      <th>imp_rp_5.0_cima_low</th>\n",
       "      <th>imp_rp_10.0_cima_low</th>\n",
       "      <th>imp_rp_25.0_cima_low</th>\n",
       "      <th>imp_rp_50.0_cima_low</th>\n",
       "      <th>imp_rp_100.0_cima_low</th>\n",
       "      <th>imp_rp_250.0_cima_low</th>\n",
       "      <th>imp_rp_500.0_cima_low</th>\n",
       "      <th>imp_rp_1000.0_cima_low</th>\n",
       "    </tr>\n",
       "  </thead>\n",
       "  <tbody>\n",
       "    <tr>\n",
       "      <th>24</th>\n",
       "      <td>194457751</td>\n",
       "      <td>SOM</td>\n",
       "      <td>3</td>\n",
       "      <td>edu_pub</td>\n",
       "      <td>W2</td>\n",
       "      <td>3.642231</td>\n",
       "      <td>0.011027</td>\n",
       "      <td>0.0</td>\n",
       "      <td>0.0</td>\n",
       "      <td>0.0</td>\n",
       "      <td>...</td>\n",
       "      <td>171371565</td>\n",
       "      <td>0.0</td>\n",
       "      <td>0.0</td>\n",
       "      <td>0.0</td>\n",
       "      <td>0.0</td>\n",
       "      <td>0.0</td>\n",
       "      <td>0.0</td>\n",
       "      <td>0.0</td>\n",
       "      <td>0.0</td>\n",
       "      <td>0.0</td>\n",
       "    </tr>\n",
       "    <tr>\n",
       "      <th>25</th>\n",
       "      <td>194457751</td>\n",
       "      <td>SOM</td>\n",
       "      <td>3</td>\n",
       "      <td>edu_pub</td>\n",
       "      <td>W1</td>\n",
       "      <td>1.557365</td>\n",
       "      <td>0.004715</td>\n",
       "      <td>0.0</td>\n",
       "      <td>0.0</td>\n",
       "      <td>0.0</td>\n",
       "      <td>...</td>\n",
       "      <td>171371565</td>\n",
       "      <td>0.0</td>\n",
       "      <td>0.0</td>\n",
       "      <td>0.0</td>\n",
       "      <td>0.0</td>\n",
       "      <td>0.0</td>\n",
       "      <td>0.0</td>\n",
       "      <td>0.0</td>\n",
       "      <td>0.0</td>\n",
       "      <td>0.0</td>\n",
       "    </tr>\n",
       "    <tr>\n",
       "      <th>48</th>\n",
       "      <td>194457751</td>\n",
       "      <td>SOM</td>\n",
       "      <td>3</td>\n",
       "      <td>ic_low</td>\n",
       "      <td>W2</td>\n",
       "      <td>15.383508</td>\n",
       "      <td>0.004852</td>\n",
       "      <td>0.0</td>\n",
       "      <td>0.0</td>\n",
       "      <td>0.0</td>\n",
       "      <td>...</td>\n",
       "      <td>171371565</td>\n",
       "      <td>0.0</td>\n",
       "      <td>0.0</td>\n",
       "      <td>0.0</td>\n",
       "      <td>0.0</td>\n",
       "      <td>0.0</td>\n",
       "      <td>0.0</td>\n",
       "      <td>0.0</td>\n",
       "      <td>0.0</td>\n",
       "      <td>0.0</td>\n",
       "    </tr>\n",
       "    <tr>\n",
       "      <th>49</th>\n",
       "      <td>194457751</td>\n",
       "      <td>SOM</td>\n",
       "      <td>3</td>\n",
       "      <td>ic_low</td>\n",
       "      <td>W1</td>\n",
       "      <td>6.577763</td>\n",
       "      <td>0.002074</td>\n",
       "      <td>0.0</td>\n",
       "      <td>0.0</td>\n",
       "      <td>0.0</td>\n",
       "      <td>...</td>\n",
       "      <td>171371565</td>\n",
       "      <td>0.0</td>\n",
       "      <td>0.0</td>\n",
       "      <td>0.0</td>\n",
       "      <td>0.0</td>\n",
       "      <td>0.0</td>\n",
       "      <td>0.0</td>\n",
       "      <td>0.0</td>\n",
       "      <td>0.0</td>\n",
       "      <td>0.0</td>\n",
       "    </tr>\n",
       "    <tr>\n",
       "      <th>51</th>\n",
       "      <td>194457751</td>\n",
       "      <td>SOM</td>\n",
       "      <td>3</td>\n",
       "      <td>ic_low</td>\n",
       "      <td>RS2</td>\n",
       "      <td>1.697488</td>\n",
       "      <td>0.000535</td>\n",
       "      <td>0.0</td>\n",
       "      <td>0.0</td>\n",
       "      <td>0.0</td>\n",
       "      <td>...</td>\n",
       "      <td>171371565</td>\n",
       "      <td>0.0</td>\n",
       "      <td>0.0</td>\n",
       "      <td>0.0</td>\n",
       "      <td>0.0</td>\n",
       "      <td>0.0</td>\n",
       "      <td>0.0</td>\n",
       "      <td>0.0</td>\n",
       "      <td>0.0</td>\n",
       "      <td>0.0</td>\n",
       "    </tr>\n",
       "  </tbody>\n",
       "</table>\n",
       "<p>5 rows × 25 columns</p>\n",
       "</div>"
      ],
      "text/plain": [
       "        id_1x iso3  cpx   sector se_seismo      value    valfis  bd_1_floor  \\\n",
       "24  194457751  SOM    3  edu_pub        W2   3.642231  0.011027         0.0   \n",
       "25  194457751  SOM    3  edu_pub        W1   1.557365  0.004715         0.0   \n",
       "48  194457751  SOM    3   ic_low        W2  15.383508  0.004852         0.0   \n",
       "49  194457751  SOM    3   ic_low        W1   6.577763  0.002074         0.0   \n",
       "51  194457751  SOM    3   ic_low       RS2   1.697488  0.000535         0.0   \n",
       "\n",
       "    bd_2_floor  bd_3_floor  ...   centr_FL  imp_rp_2.0_cima_low  \\\n",
       "24         0.0         0.0  ...  171371565                  0.0   \n",
       "25         0.0         0.0  ...  171371565                  0.0   \n",
       "48         0.0         0.0  ...  171371565                  0.0   \n",
       "49         0.0         0.0  ...  171371565                  0.0   \n",
       "51         0.0         0.0  ...  171371565                  0.0   \n",
       "\n",
       "    imp_rp_5.0_cima_low  imp_rp_10.0_cima_low  imp_rp_25.0_cima_low  \\\n",
       "24                  0.0                   0.0                   0.0   \n",
       "25                  0.0                   0.0                   0.0   \n",
       "48                  0.0                   0.0                   0.0   \n",
       "49                  0.0                   0.0                   0.0   \n",
       "51                  0.0                   0.0                   0.0   \n",
       "\n",
       "    imp_rp_50.0_cima_low  imp_rp_100.0_cima_low  imp_rp_250.0_cima_low  \\\n",
       "24                   0.0                    0.0                    0.0   \n",
       "25                   0.0                    0.0                    0.0   \n",
       "48                   0.0                    0.0                    0.0   \n",
       "49                   0.0                    0.0                    0.0   \n",
       "51                   0.0                    0.0                    0.0   \n",
       "\n",
       "    imp_rp_500.0_cima_low  imp_rp_1000.0_cima_low  \n",
       "24                    0.0                     0.0  \n",
       "25                    0.0                     0.0  \n",
       "48                    0.0                     0.0  \n",
       "49                    0.0                     0.0  \n",
       "51                    0.0                     0.0  \n",
       "\n",
       "[5 rows x 25 columns]"
      ]
     },
     "execution_count": 20,
     "metadata": {},
     "output_type": "execute_result"
    }
   ],
   "source": [
    "# for this approach, we set use the population count as key value in the exposure for the impact calculation\n",
    "exp.gdf.rename({'value': 'valfrac'}, axis=1, inplace=True)\n",
    "exp.gdf.rename({'valhum': 'value'}, axis=1, inplace=True)\n",
    "exp.gdf.head()"
   ]
  },
  {
   "cell_type": "code",
   "execution_count": 21,
   "id": "dcd3e2b2",
   "metadata": {},
   "outputs": [],
   "source": [
    "# make step functions for given building threshold\n",
    "impf_set_fl = vulnerability.IMPF_SET_FL_CIMA"
   ]
  },
  {
   "cell_type": "code",
   "execution_count": 22,
   "id": "6eb642e6",
   "metadata": {},
   "outputs": [],
   "source": [
    "from climada.entity import ImpactFunc, ImpactFuncSet\n",
    "impf_set_step = ImpactFuncSet()"
   ]
  },
  {
   "cell_type": "code",
   "execution_count": 23,
   "id": "f449aa8d",
   "metadata": {},
   "outputs": [
    {
     "name": "stdout",
     "output_type": "stream",
     "text": [
      "ID: 1 - threshold stepfunction: 1.6501727272727271\n",
      "ID: 2 - threshold stepfunction: 3.0897\n",
      "ID: 3 - threshold stepfunction: 5.8621\n",
      "ID: 4 - threshold stepfunction: 7.25308813559322\n",
      "ID: 5 - threshold stepfunction: 10.0\n",
      "ID: 6 - threshold stepfunction: 1.6494416666666667\n",
      "ID: 7 - threshold stepfunction: 2.8966\n",
      "ID: 8 - threshold stepfunction: 4.4510233333333336\n",
      "ID: 9 - threshold stepfunction: 5.833358333333334\n",
      "ID: 10 - threshold stepfunction: 7.2498097560975605\n",
      "ID: 11 - threshold stepfunction: 1.0249714285714286\n",
      "ID: 12 - threshold stepfunction: 0.7434042553191489\n",
      "ID: 13 - threshold stepfunction: 0.7436553191489361\n",
      "ID: 14 - threshold stepfunction: 1.0249714285714286\n",
      "ID: 15 - threshold stepfunction: 1.4075205479452055\n"
     ]
    }
   ],
   "source": [
    "# The threshold of building damage after which all people are displaced. Below, no-one is displaced.\n",
    "for imp_id in impf_set_fl.get_ids(haz_type='FL'):\n",
    "    impf_set_fl.get_func(fun_id=imp_id)\n",
    "    y = impf_set_fl.get_func(fun_id=imp_id)[0].intensity\n",
    "    x = impf_set_fl.get_func(fun_id=imp_id)[0].mdd\n",
    "    flood_thres = np.interp(DMG_THRESHS['low'], x, y)\n",
    "    print('ID: '+str(imp_id)+' - threshold stepfunction: '+str(flood_thres))\n",
    "    impf_set_step.append(\n",
    "                ImpactFunc.from_step_impf(\n",
    "                    intensity=(0,  flood_thres, flood_thres *10),\n",
    "                    haz_type='FL',\n",
    "                    impf_id=imp_id,\n",
    "                    intensity_unit = 'm'\n",
    "                )\n",
    "    )"
   ]
  },
  {
   "cell_type": "code",
   "execution_count": 24,
   "id": "579d1669",
   "metadata": {},
   "outputs": [],
   "source": [
    "impcalc = ImpactCalc(exp, impf_set_step, haz)\n",
    "impact = impcalc.impact()"
   ]
  },
  {
   "cell_type": "code",
   "execution_count": 34,
   "id": "bbc69406",
   "metadata": {},
   "outputs": [
    {
     "data": {
      "text/plain": [
       "469576.2197553227"
      ]
     },
     "execution_count": 34,
     "metadata": {},
     "output_type": "execute_result"
    }
   ],
   "source": [
    "impact.aai_agg  "
   ]
  },
  {
   "cell_type": "code",
   "execution_count": 33,
   "id": "b8dee302",
   "metadata": {},
   "outputs": [
    {
     "data": {
      "text/plain": [
       "array([      0.        ,  986280.1309319 , 1170223.91624959,\n",
       "       1681158.19482406, 2221687.79179678, 2372456.8579626 ,\n",
       "       2710151.53525227, 2950019.11003364, 3152505.37438334])"
      ]
     },
     "execution_count": 33,
     "metadata": {},
     "output_type": "execute_result"
    }
   ],
   "source": [
    "impact.at_event"
   ]
  },
  {
   "cell_type": "code",
   "execution_count": null,
   "id": "459a4510",
   "metadata": {},
   "outputs": [],
   "source": []
  }
 ],
 "metadata": {
  "kernelspec": {
   "display_name": "Python 3 (ipykernel)",
   "language": "python",
   "name": "python3"
  },
  "language_info": {
   "codemirror_mode": {
    "name": "ipython",
    "version": 3
   },
   "file_extension": ".py",
   "mimetype": "text/x-python",
   "name": "python",
   "nbconvert_exporter": "python",
   "pygments_lexer": "ipython3",
   "version": "3.9.16"
  }
 },
 "nbformat": 4,
 "nbformat_minor": 5
}
